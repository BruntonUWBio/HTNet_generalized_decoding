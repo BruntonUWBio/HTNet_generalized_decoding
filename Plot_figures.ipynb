{
 "cells": [
  {
   "cell_type": "markdown",
   "metadata": {},
   "source": [
    "# Plot the main results from the paper"
   ]
  },
  {
   "cell_type": "markdown",
   "metadata": {},
   "source": [
    "Plots Figs. 2-5 from the paper, after having run train_decoders.py."
   ]
  },
  {
   "cell_type": "code",
   "execution_count": null,
   "metadata": {},
   "outputs": [],
   "source": [
    "%matplotlib inline\n",
    "from plot_utils import plot_hyptuning_results"
   ]
  },
  {
   "cell_type": "markdown",
   "metadata": {},
   "source": [
    "### Set parameters"
   ]
  },
  {
   "cell_type": "code",
   "execution_count": null,
   "metadata": {},
   "outputs": [],
   "source": [
    "root_path = '.../' # pulling results from rootpath+dataset directory\n",
    "dataset = 'move_rest_ecog'\n",
    "compare_models = True # if True, plot across different models; if False, plot across different HilbertNet measures\n",
    "\n",
    "ecog_roi_proj_lp = '.../' # path to projection matrices\n",
    "spec_lp = '.../' # path to pre-computed difference spectrograms\n",
    "\n",
    "hyptune_lp = '.../' # path to saved hyperparameter tuning results"
   ]
  },
  {
   "cell_type": "markdown",
   "metadata": {},
   "source": [
    "## Test accuracy across model type (Fig. 2) or across different spectral measures (Fig. S2)"
   ]
  },
  {
   "cell_type": "code",
   "execution_count": null,
   "metadata": {},
   "outputs": [],
   "source": [
    "fig, dfs_all = plot_model_accs(root_path, dataset, compare_models=compare_models)\n",
    "\n",
    "# View stats\n",
    "# test_acc_mod_states(dfs_all)\n",
    "\n",
    "# Save figure\n",
    "# fig_sp = root_path+dataset+'/figs/'\n",
    "# fig_name = 'accs_model_compare' if compare_models else 'accs_hilbmeas_compare'\n",
    "# fig.savefig(fig_sp+fig_name+'.eps',\n",
    "#             format='eps',  transparent= True,dpi=dpi_plt,\n",
    "#             bbox_inches = 'tight', pad_inches = 0.01,\n",
    "#             )"
   ]
  },
  {
   "cell_type": "markdown",
   "metadata": {},
   "source": [
    "## HTNet fine-tuning (Fig. 3)"
   ]
  },
  {
   "cell_type": "code",
   "execution_count": null,
   "metadata": {},
   "outputs": [],
   "source": []
  },
  {
   "cell_type": "markdown",
   "metadata": {},
   "source": [
    "## HTNet interpretability (Fig. 4)"
   ]
  },
  {
   "cell_type": "code",
   "execution_count": null,
   "metadata": {},
   "outputs": [],
   "source": [
    "fig = plot_weights_interp(root_path, dataset, ecog_roi_proj_lp, spec_lp)\n",
    "\n",
    "# Save figure\n",
    "# fig_sp = '/data2/users/stepeter/cnn_hilb_datasets/naturalistic_v3/figs/'\n",
    "# fig_name = 'fig_model_interp.png'\n",
    "# fig.savefig(fig_sp+fig_name,\n",
    "#             format='png',  transparent= True,dpi=dpi_plt,\n",
    "#             bbox_inches = 'tight', pad_inches = 0.01,\n",
    "#             )"
   ]
  },
  {
   "cell_type": "markdown",
   "metadata": {},
   "source": [
    "## Effects of electrode overlap and number of training participants on test accuracy (Fig. 5)"
   ]
  },
  {
   "cell_type": "code",
   "execution_count": null,
   "metadata": {},
   "outputs": [],
   "source": [
    "fig = plot_overlap_trainnum(root_path+dataset+'/')\n",
    "\n",
    "# Save figure\n",
    "# fig_sp = root_path+dataset+'/figs/'\n",
    "# fig_name = 'fig_ntra_frac_overlap'\n",
    "# fig.savefig(fig_sp+fig_name+'.png',\n",
    "#             format='png',  transparent= True,dpi=dpi_plt,\n",
    "#             bbox_inches = 'tight', pad_inches = 0.01,\n",
    "#             )"
   ]
  },
  {
   "cell_type": "markdown",
   "metadata": {},
   "source": [
    "## Plot hyperparameter tuning results (Fig. S1)"
   ]
  },
  {
   "cell_type": "code",
   "execution_count": null,
   "metadata": {},
   "outputs": [],
   "source": [
    "plot_hyptuning_results(lp)"
   ]
  }
 ],
 "metadata": {
  "kernelspec": {
   "display_name": "Python 3",
   "language": "python",
   "name": "python3"
  },
  "language_info": {
   "codemirror_mode": {
    "name": "ipython",
    "version": 3
   },
   "file_extension": ".py",
   "mimetype": "text/x-python",
   "name": "python",
   "nbconvert_exporter": "python",
   "pygments_lexer": "ipython3",
   "version": "3.7.6"
  }
 },
 "nbformat": 4,
 "nbformat_minor": 4
}
